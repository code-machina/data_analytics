{
 "cells": [
  {
   "cell_type": "code",
   "execution_count": 10,
   "metadata": {},
   "outputs": [],
   "source": [
    "%matplotlib inline\n",
    "\n",
    "import pandas as pd\n",
    "import os"
   ]
  },
  {
   "cell_type": "code",
   "execution_count": 8,
   "metadata": {},
   "outputs": [],
   "source": [
    "# 전처리\n",
    "def parse_logs(path):\n",
    "    logs = []\n",
    "    for file in os.listdir(path):\n",
    "        if file.endswith(\".log\"):\n",
    "            # First, we read all the lines of the file, excluding the coments\n",
    "            file = [x.split(' ') for x in open(path + '/' + file).readlines() \n",
    "                    if x[0] is not '#']\n",
    " \n",
    "            # We append the files\n",
    "            logs += file\n",
    "    return logs"
   ]
  },
  {
   "cell_type": "code",
   "execution_count": 11,
   "metadata": {},
   "outputs": [],
   "source": [
    "# pd.read_csv(r'./u_ex171118-sample.txt', sep=r'\\s+', encoding='utf8', error_bad_lines=False)\n",
    "logs = parse_logs(r'./')"
   ]
  },
  {
   "cell_type": "code",
   "execution_count": null,
   "metadata": {
    "collapsed": true
   },
   "outputs": [],
   "source": []
  }
 ],
 "metadata": {
  "kernelspec": {
   "display_name": "Python 3",
   "language": "python",
   "name": "python3"
  },
  "language_info": {
   "codemirror_mode": {
    "name": "ipython",
    "version": 3
   },
   "file_extension": ".py",
   "mimetype": "text/x-python",
   "name": "python",
   "nbconvert_exporter": "python",
   "pygments_lexer": "ipython3",
   "version": "3.5.6"
  }
 },
 "nbformat": 4,
 "nbformat_minor": 2
}
